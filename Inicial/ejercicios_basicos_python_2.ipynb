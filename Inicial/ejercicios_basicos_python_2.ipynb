{
 "cells": [
  {
   "cell_type": "markdown",
   "id": "4a84c212",
   "metadata": {},
   "source": [
    "# Ejercicios Básicos en Python\n",
    "\n",
    "Este cuaderno contiene ejercicios sencillos para practicar conceptos fundamentales de Python."
   ]
  },
  {
   "cell_type": "markdown",
   "id": "04c2ca16",
   "metadata": {},
   "source": [
    "## 1. Imprimir un mensaje\n",
    "\n",
    "Escribe un programa que imprima \"¡Hola, mundo!\"."
   ]
  },
  {
   "cell_type": "code",
   "execution_count": null,
   "id": "55bc61b9",
   "metadata": {},
   "outputs": [],
   "source": [
    "# Escribe tu código aquí\n",
    "print('¡Hola, mundo!')"
   ]
  },
  {
   "cell_type": "markdown",
   "id": "a723c978",
   "metadata": {},
   "source": [
    "## 2. Operaciones aritméticas\n",
    "\n",
    "Calcula la suma, resta, multiplicación y división de dos números."
   ]
  },
  {
   "cell_type": "code",
   "execution_count": null,
   "id": "ed8b3d53",
   "metadata": {},
   "outputs": [],
   "source": [
    "# Escribe tu código aquí\n",
    "a = 10\n",
    "b = 5\n",
    "print('Suma:', a + b)\n",
    "print('Resta:', a - b)\n",
    "print('Multiplicación:', a * b)\n",
    "print('División:', a / b)"
   ]
  },
  {
   "cell_type": "markdown",
   "id": "8dfe8b02",
   "metadata": {},
   "source": [
    "## 3. Uso de condicionales\n",
    "\n",
    "Determina si un número es par o impar."
   ]
  },
  {
   "cell_type": "code",
   "execution_count": null,
   "id": "7f9969da",
   "metadata": {},
   "outputs": [],
   "source": [
    "# Escribe tu código aquí\n",
    "numero = 7\n",
    "if numero % 2 == 0:\n",
    "    print('El número es par')\n",
    "else:\n",
    "    print('El número es impar')"
   ]
  },
  {
   "cell_type": "markdown",
   "id": "579d2faa",
   "metadata": {},
   "source": [
    "## 4. Uso de bucles\n",
    "\n",
    "Imprime los números del 1 al 5 usando un bucle for."
   ]
  },
  {
   "cell_type": "code",
   "execution_count": null,
   "id": "598e0606",
   "metadata": {},
   "outputs": [],
   "source": [
    "# Escribe tu código aquí\n",
    "for i in range(1, 6):\n",
    "    print(i)"
   ]
  },
  {
   "cell_type": "markdown",
   "id": "7db92069",
   "metadata": {},
   "source": [
    "## 5. Definir y usar funciones\n",
    "\n",
    "Crea una función que reciba un nombre y salude a la persona."
   ]
  },
  {
   "cell_type": "code",
   "execution_count": null,
   "id": "e8100878",
   "metadata": {},
   "outputs": [],
   "source": [
    "# Escribe tu código aquí\n",
    "def saludar(nombre):\n",
    "    print(f'Hola, {nombre}!')\n",
    "\n",
    "saludar('Ana')"
   ]
  },
  {
   "cell_type": "markdown",
   "id": "8d1c0b3b",
   "metadata": {},
   "source": [
    "## 6. Condicionales anidados\n",
    "\n",
    "Escribe un programa que reciba una calificación (0-100) y muestre si es 'Excelente' (90-100), 'Bueno' (70-89), 'Suficiente' (60-69) o 'Insuficiente' (menos de 60)."
   ]
  },
  {
   "cell_type": "code",
   "execution_count": null,
   "id": "942cd56e",
   "metadata": {},
   "outputs": [],
   "source": [
    "# Escribe tu código aquí\n",
    "calificacion = 85\n",
    "if calificacion >= 90:\n",
    "    print('Excelente')\n",
    "elif calificacion >= 70:\n",
    "    print('Bueno')\n",
    "elif calificacion >= 60:\n",
    "    print('Suficiente')\n",
    "else:\n",
    "    print('Insuficiente')"
   ]
  },
  {
   "cell_type": "markdown",
   "id": "c6835db3",
   "metadata": {},
   "source": [
    "## 7. Uso de diccionarios\n",
    "\n",
    "Crea un diccionario con nombres de personas y sus edades. Imprime la edad de una persona específica."
   ]
  },
  {
   "cell_type": "code",
   "execution_count": null,
   "id": "0968be29",
   "metadata": {},
   "outputs": [],
   "source": [
    "# Escribe tu código aquí\n",
    "edades = {'Ana': 23, 'Luis': 31, 'María': 19}\n",
    "print('Edad de Luis:', edades['Luis'])"
   ]
  },
  {
   "cell_type": "markdown",
   "id": "9f998bdd",
   "metadata": {},
   "source": [
    "## 8. Recorrer un diccionario\n",
    "\n",
    "Imprime todos los nombres y edades del diccionario anterior."
   ]
  },
  {
   "cell_type": "code",
   "execution_count": null,
   "id": "ef2de416",
   "metadata": {},
   "outputs": [],
   "source": [
    "# Escribe tu código aquí\n",
    "for nombre, edad in edades.items():\n",
    "    print(f'{nombre} tiene {edad} años')"
   ]
  },
  {
   "cell_type": "markdown",
   "id": "43150892",
   "metadata": {},
   "source": [
    "## 9. Uso de tuplas\n",
    "\n",
    "Crea una tupla con tres elementos y muestra el segundo elemento."
   ]
  },
  {
   "cell_type": "code",
   "execution_count": null,
   "id": "b27cc851",
   "metadata": {},
   "outputs": [],
   "source": [
    "# Escribe tu código aquí\n",
    "mi_tupla = (10, 20, 30)\n",
    "print('Segundo elemento:', mi_tupla[1])"
   ]
  },
  {
   "cell_type": "markdown",
   "id": "fc4bb20a",
   "metadata": {},
   "source": [
    "## 10. Iterar sobre una tupla\n",
    "\n",
    "Imprime todos los elementos de la tupla usando un bucle."
   ]
  },
  {
   "cell_type": "code",
   "execution_count": null,
   "id": "7af77741",
   "metadata": {},
   "outputs": [],
   "source": [
    "# Escribe tu código aquí\n",
    "for elemento in mi_tupla:\n",
    "    print(elemento)"
   ]
  },
  {
   "cell_type": "markdown",
   "id": "e1df69a4",
   "metadata": {},
   "source": [
    "## 11. Lista de números pares usando comprensión de listas\n",
    "\n",
    "Crea una lista con los números pares del 1 al 20 usando comprensión de listas."
   ]
  },
  {
   "cell_type": "code",
   "execution_count": null,
   "id": "fac343a6",
   "metadata": {},
   "outputs": [],
   "source": [
    "# Escribe tu código aquí\n"
   ]
  },
  {
   "cell_type": "markdown",
   "id": "fda8452b",
   "metadata": {},
   "source": [
    "## 12. Filtrar elementos de una lista\n",
    "\n",
    "Dada una lista de números, crea una nueva lista que contenga solo los números mayores a 10."
   ]
  },
  {
   "cell_type": "code",
   "execution_count": null,
   "id": "85ee0b73",
   "metadata": {},
   "outputs": [],
   "source": [
    "# Escribe tu código aquí\n"
   ]
  },
  {
   "cell_type": "markdown",
   "id": "04439151",
   "metadata": {},
   "source": [
    "## 13. Contar palabras en una frase\n",
    "\n",
    "Escribe una función que reciba una frase y devuelva un diccionario con la cantidad de veces que aparece cada palabra."
   ]
  },
  {
   "cell_type": "code",
   "execution_count": null,
   "id": "166f0637",
   "metadata": {},
   "outputs": [],
   "source": [
    "# Escribe tu código aquí\n"
   ]
  },
  {
   "cell_type": "markdown",
   "id": "35fb5538",
   "metadata": {},
   "source": [
    "## 14. Uso básico de la librería `math`\n",
    "\n",
    "Calcula la raíz cuadrada y el valor absoluto de un número usando la librería `math`."
   ]
  },
  {
   "cell_type": "code",
   "execution_count": null,
   "id": "eb49220a",
   "metadata": {},
   "outputs": [],
   "source": [
    "# Escribe tu código aquí\n"
   ]
  },
  {
   "cell_type": "markdown",
   "id": "744ac745",
   "metadata": {},
   "source": [
    "## 15. Uso básico de la librería `random`\n",
    "\n",
    "Genera una lista de 5 números aleatorios entre 1 y 100."
   ]
  },
  {
   "cell_type": "code",
   "execution_count": null,
   "id": "11497b3a",
   "metadata": {},
   "outputs": [],
   "source": [
    "# Escribe tu código aquí\n"
   ]
  },
  {
   "cell_type": "markdown",
   "id": "02718c08",
   "metadata": {},
   "source": [
    "## 16. Uso básico de la librería `datetime`\n",
    "\n",
    "Imprime la fecha y hora actual, y suma 7 días a la fecha actual."
   ]
  },
  {
   "cell_type": "code",
   "execution_count": null,
   "id": "7c4103d1",
   "metadata": {},
   "outputs": [],
   "source": [
    "# Escribe tu código aquí\n"
   ]
  },
  {
   "cell_type": "markdown",
   "id": "2b3c7a28",
   "metadata": {},
   "source": [
    "## 17. Operaciones básicas con NumPy\n",
    "\n",
    "Crea un arreglo de NumPy con los números del 1 al 10 y calcula su suma y media."
   ]
  },
  {
   "cell_type": "code",
   "execution_count": null,
   "id": "deb556b2",
   "metadata": {},
   "outputs": [],
   "source": [
    "# Escribe tu código aquí\n"
   ]
  },
  {
   "cell_type": "markdown",
   "id": "4e34aef8",
   "metadata": {},
   "source": [
    "## 18. Crear y manipular un DataFrame con Pandas\n",
    "\n",
    "Crea un DataFrame de Pandas con nombres y edades, y muestra la edad promedio."
   ]
  },
  {
   "cell_type": "code",
   "execution_count": null,
   "id": "01e4e0fb",
   "metadata": {},
   "outputs": [],
   "source": [
    "# Escribe tu código aquí\n"
   ]
  }
 ],
 "metadata": {
  "kernelspec": {
   "display_name": "Python 3 (ipykernel)",
   "language": "python",
   "name": "python3"
  },
  "language_info": {
   "codemirror_mode": {
    "name": "ipython",
    "version": 3
   },
   "file_extension": ".py",
   "mimetype": "text/x-python",
   "name": "python",
   "nbconvert_exporter": "python",
   "pygments_lexer": "ipython3",
   "version": "3.12.7"
  }
 },
 "nbformat": 4,
 "nbformat_minor": 5
}
