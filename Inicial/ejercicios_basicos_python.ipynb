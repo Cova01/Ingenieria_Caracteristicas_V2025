{
 "cells": [
  {
   "cell_type": "markdown",
   "id": "4a84c212",
   "metadata": {},
   "source": [
    "# Ejercicios Básicos en Python\n",
    "\n",
    "Este cuaderno contiene ejercicios sencillos para practicar conceptos fundamentales de Python."
   ]
  },
  {
   "cell_type": "markdown",
   "id": "04c2ca16",
   "metadata": {},
   "source": [
    "## 1. Imprimir un mensaje\n",
    "\n",
    "Escribe un programa que imprima \"¡Hola, mundo!\"."
   ]
  },
  {
   "cell_type": "code",
   "execution_count": null,
   "id": "55bc61b9",
   "metadata": {},
   "outputs": [],
   "source": [
    "# Escribe tu código aquí\n",
    "print('¡Hola, mundo!')"
   ]
  },
  {
   "cell_type": "markdown",
   "id": "a723c978",
   "metadata": {},
   "source": [
    "## 2. Operaciones aritméticas\n",
    "\n",
    "Calcula la suma, resta, multiplicación y división de dos números."
   ]
  },
  {
   "cell_type": "code",
   "execution_count": null,
   "id": "ed8b3d53",
   "metadata": {},
   "outputs": [],
   "source": [
    "# Escribe tu código aquí\n",
    "a = 10\n",
    "b = 5\n",
    "print('Suma:', a + b)\n",
    "print('Resta:', a - b)\n",
    "print('Multiplicación:', a * b)\n",
    "print('División:', a / b)"
   ]
  },
  {
   "cell_type": "markdown",
   "id": "8dfe8b02",
   "metadata": {},
   "source": [
    "## 3. Uso de condicionales\n",
    "\n",
    "Determina si un número es par o impar."
   ]
  },
  {
   "cell_type": "code",
   "execution_count": null,
   "id": "7f9969da",
   "metadata": {},
   "outputs": [],
   "source": [
    "# Escribe tu código aquí\n",
    "numero = 7\n",
    "if numero % 2 == 0:\n",
    "    print('El número es par')\n",
    "else:\n",
    "    print('El número es impar')"
   ]
  },
  {
   "cell_type": "markdown",
   "id": "579d2faa",
   "metadata": {},
   "source": [
    "## 4. Uso de bucles\n",
    "\n",
    "Imprime los números del 1 al 5 usando un bucle for."
   ]
  },
  {
   "cell_type": "code",
   "execution_count": null,
   "id": "598e0606",
   "metadata": {},
   "outputs": [],
   "source": [
    "# Escribe tu código aquí\n",
    "for i in range(1, 6):\n",
    "    print(i)"
   ]
  },
  {
   "cell_type": "markdown",
   "id": "7db92069",
   "metadata": {},
   "source": [
    "## 5. Definir y usar funciones\n",
    "\n",
    "Crea una función que reciba un nombre y salude a la persona."
   ]
  },
  {
   "cell_type": "code",
   "execution_count": null,
   "id": "e8100878",
   "metadata": {},
   "outputs": [],
   "source": [
    "# Escribe tu código aquí\n",
    "def saludar(nombre):\n",
    "    print(f'Hola, {nombre}!')\n",
    "\n",
    "saludar('Ana')"
   ]
  },
  {
   "cell_type": "markdown",
   "id": "8d1c0b3b",
   "metadata": {},
   "source": [
    "## 6. Condicionales anidados\n",
    "\n",
    "Escribe un programa que reciba una calificación (0-100) y muestre si es 'Excelente' (90-100), 'Bueno' (70-89), 'Suficiente' (60-69) o 'Insuficiente' (menos de 60)."
   ]
  },
  {
   "cell_type": "code",
   "execution_count": null,
   "id": "942cd56e",
   "metadata": {},
   "outputs": [],
   "source": [
    "# Escribe tu código aquí\n",
    "calificacion = 85\n",
    "if calificacion >= 90:\n",
    "    print('Excelente')\n",
    "elif calificacion >= 70:\n",
    "    print('Bueno')\n",
    "elif calificacion >= 60:\n",
    "    print('Suficiente')\n",
    "else:\n",
    "    print('Insuficiente')"
   ]
  },
  {
   "cell_type": "markdown",
   "id": "c6835db3",
   "metadata": {},
   "source": [
    "## 7. Uso de diccionarios\n",
    "\n",
    "Crea un diccionario con nombres de personas y sus edades. Imprime la edad de una persona específica."
   ]
  },
  {
   "cell_type": "code",
   "execution_count": null,
   "id": "0968be29",
   "metadata": {},
   "outputs": [],
   "source": [
    "# Escribe tu código aquí\n",
    "edades = {'Ana': 23, 'Luis': 31, 'María': 19}\n",
    "print('Edad de Luis:', edades['Luis'])"
   ]
  },
  {
   "cell_type": "markdown",
   "id": "9f998bdd",
   "metadata": {},
   "source": [
    "## 8. Recorrer un diccionario\n",
    "\n",
    "Imprime todos los nombres y edades del diccionario anterior."
   ]
  },
  {
   "cell_type": "code",
   "execution_count": null,
   "id": "ef2de416",
   "metadata": {},
   "outputs": [],
   "source": [
    "# Escribe tu código aquí\n",
    "for nombre, edad in edades.items():\n",
    "    print(f'{nombre} tiene {edad} años')"
   ]
  },
  {
   "cell_type": "markdown",
   "id": "43150892",
   "metadata": {},
   "source": [
    "## 9. Uso de tuplas\n",
    "\n",
    "Crea una tupla con tres elementos y muestra el segundo elemento."
   ]
  },
  {
   "cell_type": "code",
   "execution_count": null,
   "id": "b27cc851",
   "metadata": {},
   "outputs": [],
   "source": [
    "# Escribe tu código aquí\n",
    "mi_tupla = (10, 20, 30)\n",
    "print('Segundo elemento:', mi_tupla[1])"
   ]
  },
  {
   "cell_type": "markdown",
   "id": "fc4bb20a",
   "metadata": {},
   "source": [
    "## 10. Iterar sobre una tupla\n",
    "\n",
    "Imprime todos los elementos de la tupla usando un bucle."
   ]
  },
  {
   "cell_type": "code",
   "execution_count": null,
   "id": "7af77741",
   "metadata": {},
   "outputs": [],
   "source": [
    "# Escribe tu código aquí\n",
    "for elemento in mi_tupla:\n",
    "    print(elemento)"
   ]
  }
 ],
 "metadata": {
  "language_info": {
   "name": "python"
  }
 },
 "nbformat": 4,
 "nbformat_minor": 5
}
