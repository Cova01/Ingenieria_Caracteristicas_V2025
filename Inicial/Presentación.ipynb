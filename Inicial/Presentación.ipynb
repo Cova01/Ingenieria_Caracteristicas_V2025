{
 "cells": [
  {
   "cell_type": "markdown",
   "metadata": {},
   "source": [
    "\n",
    "<img style=\"float: left;;\" src='Figures/iteso.jpg' width=\"100\" height=\"200\"/></a>\n",
    "\n",
    "\n",
    "## <center> <font color= #000047> Bienvenidos al curso de la Maestría en Ciencia de Datos: </font> </center>\n",
    "# <center> <font color= #000047> Ingeniería de Características </font> </center>\n",
    "\n",
    "\n"
   ]
  },
  {
   "cell_type": "markdown",
   "metadata": {},
   "source": [
    "\n",
    "\n",
    "\n",
    "#### <font color= #2E9AFE>  Modalidad Virtual `Martes y Jueves  de 18:30hrs a 21:30 hrs`</font>\n",
    "- <Strong> Gaddiel Desirena López </Strong>\n",
    "\n",
    "\n",
    "- <Strong> Email: </Strong>  <font color=\"blue\"> gdesirena@iteso.mx </font>\n",
    "\n",
    "\n",
    "___"
   ]
  },
  {
   "cell_type": "markdown",
   "metadata": {},
   "source": [
    "#### <font color= #2E9AFE>  Presentación</font>\n",
    "___"
   ]
  },
  {
   "attachments": {},
   "cell_type": "markdown",
   "metadata": {},
   "source": [
    "### `Descripción de la asignatura`\n",
    "Los datos representan un activo potencialmente valioso para la sociedad, empresas y gobiernos. Sin embargo, antes de poder aprovechar los datos mediante el uso de técnicas de áreas como aprendizaje automático y minería de datos, es importante poder seleccionar las características relevantes para un problema o pregunta con el objetivo de reducir la dimensionalidad del conjunto de datos.\n",
    "\n",
    "- Por lo anterior, esta materia proporciona los fundamentos teóricos y prácticos de la ingeniería de características (feature engineering), una etapa crítica en todo proyecto de ciencia de datos y aprendizaje automático. El curso está diseñado para que el estudiante desarrolle habilidades para identificar, transformar, crear y seleccionar características relevantes a partir de datos crudos, con el objetivo de mejorar el desempeño de los modelos predictivos.\n",
    "___"
   ]
  },
  {
   "cell_type": "markdown",
   "metadata": {},
   "source": [
    "### `Propósito General`\n",
    "\n",
    "Limpiar conjuntos de datos y sustraer sus características para crear nuevas variables que puedan ser usadas como entradas por un algoritmo de aprendizaje máquina utilizando bibliotecas especializadas como pandas, NumPy, scikit-learn, Feature-engine y category_encoders, entre otras. "
   ]
  },
  {
   "cell_type": "markdown",
   "metadata": {},
   "source": [
    "### `Temario`\n",
    "`Módulo 1.` **Extracción de datos de diferentes fuentes**\n",
    "\n",
    "   1. Archivos de texto, CSV y Excel\n",
    "   2. Archivos JSON, XML \n",
    "   3. De imágenes\n",
    "\n",
    "`Módulo 2.` **Identificación de datos**\n",
    "\n",
    "   1. Variables numéricas y variables categóricas\n",
    "   2. Valores faltantes\n",
    "   3. Cardinalidad en variable categóricas\n",
    "   4. Relaciones lineales\n",
    "   5. Distribuciones de los datos\n",
    "   6. Valores atípicos\n",
    "   \n",
    "`Módulo 3.`  **Tratamiento de datos faltantes**\n",
    "\n",
    "   1. Eliminación de observaciones\n",
    "   2. Sustitución por media y mediana\n",
    "   3. Sustitución por moda y frecuencia\n",
    "   4. Sustitución aleatoria\n",
    "   5. Valores extremos\n",
    "   \n",
    "`Módulo 4.`  **Codificación de variables categóricas**\n",
    "\n",
    "   1. Creación de variables binarias\n",
    "   2. Variables categóricas ordinales\n",
    "   3. Conteos o frecuencias de categorías\n",
    "   4. Codificación en base la media\n",
    "   5. Featuring hashing\n",
    "   \n",
    "`Módulo 5.`  **Transformación de variables numéricas**\n",
    "\n",
    "   1. Transformación logaritmo y reciproco\n",
    "   2. Transformación cuadrática y cubica\n",
    "   3. Transformación Box–Cox\n",
    "   4. Transformación Yeo–Johnson\n",
    "   \n",
    "`Módulo 6.`  **Escalamiento de variables**\n",
    "\n",
    "   1. Estandarización\n",
    "   2. Normalización basada en la media\n",
    "   3. Escalamiento de valores máximo y mínimo\n",
    "   4. Escalamiento de máximo absoluto\n",
    "   5. Escalamiento por cuantiles\n",
    "\n",
    "`Módulo 7.`  **Discretización de variables**\n",
    "\n",
    "   1. Intervalos de ancho constante\n",
    "   2. Intervalos de frecuencia constante\n",
    "   3. K–Means\n",
    "   4. Arboles de decisión\n",
    "   \n",
    "`Módulo 8.`  **Extracción de características en series de tiempo**\n",
    "\n",
    "   1. Intervalos\n",
    "   2. Shapelets\n",
    "   3. Diccionario de patrones\n",
    "\n",
    "      \n",
    "   \n",
    "   \n",
    "   "
   ]
  },
  {
   "cell_type": "markdown",
   "metadata": {},
   "source": [
    "### `Evaluación`\n",
    "\n",
    "**3 Parcials**\n",
    "- **Examenes  30%**\n",
    "- **Tareas y actividades de clase 15%**\n",
    "- **Prácticas de laboratorio 15%**\n",
    "- **Proyecto de limpieza de conjunto de datos 40%**"
   ]
  },
  {
   "cell_type": "code",
   "execution_count": null,
   "metadata": {},
   "outputs": [],
   "source": []
  }
 ],
 "metadata": {
  "kernelspec": {
   "display_name": "Python 3 (ipykernel)",
   "language": "python",
   "name": "python3"
  },
  "language_info": {
   "codemirror_mode": {
    "name": "ipython",
    "version": 3
   },
   "file_extension": ".py",
   "mimetype": "text/x-python",
   "name": "python",
   "nbconvert_exporter": "python",
   "pygments_lexer": "ipython3",
   "version": "3.12.7"
  }
 },
 "nbformat": 4,
 "nbformat_minor": 4
}
